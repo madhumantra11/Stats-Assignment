{
 "cells": [
  {
   "cell_type": "markdown",
   "metadata": {},
   "source": [
    "Problem Statement 1:\n",
    "\n",
    "You survey households in your area to find the average rent they are paying. Find the \n",
    "standard deviation from the following data: \n",
    " \n",
    "$1550, $1700, $900, $850, $1000, $950. \n",
    " \n",
    " "
   ]
  },
  {
   "cell_type": "code",
   "execution_count": 1,
   "metadata": {},
   "outputs": [
    {
     "data": {
      "text/plain": [
       "335.92740617910624"
      ]
     },
     "execution_count": 1,
     "metadata": {},
     "output_type": "execute_result"
    }
   ],
   "source": [
    "import numpy as np\n",
    "dataset = [1550,1700,900,850,1000,950]\n",
    "np.std(dataset)"
   ]
  },
  {
   "cell_type": "markdown",
   "metadata": {},
   "source": [
    "Problem Statement 2: \n",
    " \n",
    "Find the variance for the following set of data representing trees in California (heights in feet): \n",
    " \n",
    "3, 21, 98, 203, 17, 9 \n",
    " \n",
    " "
   ]
  },
  {
   "cell_type": "code",
   "execution_count": 2,
   "metadata": {},
   "outputs": [
    {
     "data": {
      "text/plain": [
       "5183.25"
      ]
     },
     "execution_count": 2,
     "metadata": {},
     "output_type": "execute_result"
    }
   ],
   "source": [
    "import numpy as np\n",
    "dataset = [3,21,98,203,17,9]\n",
    "np.var(dataset)"
   ]
  },
  {
   "cell_type": "markdown",
   "metadata": {},
   "source": [
    "Problem Statement 3: \n",
    " \n",
    "In a class on 100 students, 80 students passed in all subjects, 10 failed in one subject, 7 failed in two subjects and 3 failed in three subjects. Find the probability distribution of the variable for number of subjects a student from the given class has failed in. \n",
    " \n",
    " "
   ]
  },
  {
   "cell_type": "markdown",
   "metadata": {},
   "source": [
    "Total students=100\n",
    "Students passed in all subjects = 80\n",
    "Therefore, Students failed in 0 subjects = 80\n",
    "failed in 1 subject = 10\n",
    "failed in 2 subject = 7\n",
    "failed in 3 subjects = 3\n",
    "\n",
    "Probability of -\n",
    "Failing in 0 subjects = 80/100\n",
    "Failing in 1 subject = 10/100\n",
    "Failing in 2 subjects = 7/100\n",
    "Failing in 3 subjects = 3/100\n",
    "\n",
    "Expected number of subjects a student has failed = 0(80/100) + 1(10/100) + 2(7/100) + 3(3/100)\n",
    "                                                 =(0+10+14+9)/100 = 33/100 = 0.33"
   ]
  }
 ],
 "metadata": {
  "kernelspec": {
   "display_name": "Python 3",
   "language": "python",
   "name": "python3"
  },
  "language_info": {
   "codemirror_mode": {
    "name": "ipython",
    "version": 3
   },
   "file_extension": ".py",
   "mimetype": "text/x-python",
   "name": "python",
   "nbconvert_exporter": "python",
   "pygments_lexer": "ipython3",
   "version": "3.7.4"
  }
 },
 "nbformat": 4,
 "nbformat_minor": 2
}
